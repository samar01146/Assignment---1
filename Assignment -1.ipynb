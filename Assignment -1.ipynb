{
 "cells": [
  {
   "cell_type": "markdown",
   "id": "f02fe59e",
   "metadata": {},
   "source": [
    "# 1. In the below elements which of them are values or an expression? eg:- values can beinteger or string and expressions will be mathematical operators.\n",
    "\n",
    "solution:-"
   ]
  },
  {
   "cell_type": "markdown",
   "id": "4ef9872a",
   "metadata": {},
   "source": [
    "\" * \"       =expression \n",
    "\n",
    "\" hello \"   =value\n",
    "\n",
    "\" -87.8 \"   =value\n",
    "\n",
    "\" - \"       =expression\n",
    "\n",
    "\" / \"       =expression\n",
    "\n",
    "\" + \"       =expression\n",
    "\n",
    "\" 6 \"       =value"
   ]
  },
  {
   "cell_type": "markdown",
   "id": "0c4c4713",
   "metadata": {},
   "source": [
    "   # 2. What is the difference between string and variable?\n",
    "   \n",
    "   solution:-"
   ]
  },
  {
   "cell_type": "markdown",
   "id": "0d9ac52e",
   "metadata": {},
   "source": [
    "            string can be written in quote as mentioned.\n",
    "\n",
    "            \"Samar\"        and         'Samar'\n",
    "\n",
    "        \n",
    "            variable is thing which helps in holding a data in entity."
   ]
  },
  {
   "cell_type": "markdown",
   "id": "fbaf107d",
   "metadata": {},
   "source": [
    "# 3. Describe three different data types.\n",
    "\n",
    "solution:-"
   ]
  },
  {
   "cell_type": "markdown",
   "id": "e0c7f839",
   "metadata": {},
   "source": [
    "          int,  flot, bolean, list, complex"
   ]
  },
  {
   "cell_type": "markdown",
   "id": "85cade03",
   "metadata": {},
   "source": [
    "# 4. What is an expression made up of? What do all expressions do?\n",
    "\n",
    "solution:-"
   ]
  },
  {
   "cell_type": "markdown",
   "id": "6ad22a2d",
   "metadata": {},
   "source": [
    "         expression is made up of value, containers and mathematical operators \n"
   ]
  },
  {
   "cell_type": "markdown",
   "id": "f922ce8c",
   "metadata": {},
   "source": [
    "# 5. This assignment statements, like spam = 10. What is the difference between an expression and a statement?\n",
    "\n",
    "solution:-"
   ]
  },
  {
   "cell_type": "markdown",
   "id": "d6275d0b",
   "metadata": {},
   "source": [
    "         as discussed above expression are value, containers and mathmatical operator where statements is like a command which is python execute like a list"
   ]
  },
  {
   "cell_type": "markdown",
   "id": "6c77aca8",
   "metadata": {},
   "source": [
    "# 6. After running the following code, what does the variable bacon contain?\n",
    "bacon = 22\n",
    "\n",
    "bacon + 1\n",
    "\n",
    "solution:- 2"
   ]
  },
  {
   "cell_type": "markdown",
   "id": "68431670",
   "metadata": {},
   "source": [
    "# 7. What should the values of the following two terms be?\n",
    "&#39;spam&#39; + &#39;spamspam&#39;\n",
    "&#39;spam&#39; * 3\n",
    "\n",
    "solution:- same"
   ]
  },
  {
   "cell_type": "markdown",
   "id": "05e68140",
   "metadata": {},
   "source": [
    "# 8. Why is eggs a valid variable name while 100 is invalid?\n",
    "\n",
    "solution:- because we can't give a integer name to a variables."
   ]
  },
  {
   "cell_type": "markdown",
   "id": "d493a0bd",
   "metadata": {},
   "source": [
    "# 9. What three functions can be used to get the integer, floating-point number, or string version of a value?\n",
    "\n",
    "solution:- string() , int(), float()"
   ]
  },
  {
   "cell_type": "markdown",
   "id": "28880625",
   "metadata": {},
   "source": [
    "# 10. Why does this expression cause an error? How can you fix it?\n",
    "&#39;I have eaten &#39; + 99 + &#39; burritos.&#39;\n",
    "\n",
    "solution:- because 99 is a integer it cannot be connected with strings."
   ]
  }
 ],
 "metadata": {
  "kernelspec": {
   "display_name": "Python 3 (ipykernel)",
   "language": "python",
   "name": "python3"
  },
  "language_info": {
   "codemirror_mode": {
    "name": "ipython",
    "version": 3
   },
   "file_extension": ".py",
   "mimetype": "text/x-python",
   "name": "python",
   "nbconvert_exporter": "python",
   "pygments_lexer": "ipython3",
   "version": "3.9.12"
  }
 },
 "nbformat": 4,
 "nbformat_minor": 5
}
